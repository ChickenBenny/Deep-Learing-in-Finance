{
 "cells": [
  {
   "cell_type": "code",
   "execution_count": 52,
   "metadata": {},
   "outputs": [],
   "source": [
    "import time\n",
    "import pandas as pd\n",
    "import numpy as np\n",
    "import pandas_datareader as web\n",
    "import datetime as dt\n",
    "from bs4 import BeautifulSoup\n",
    "import matplotlib.pyplot as plt\n",
    "import requests"
   ]
  },
  {
   "cell_type": "code",
   "execution_count": 60,
   "metadata": {},
   "outputs": [],
   "source": [
    "odd = [1, 3, 5, 7, 8, 10, 12]\n",
    "for i in range(2004, 2022):\n",
    "    for j in range(1, 12):\n",
    "        if j == 2:\n",
    "            date = str(i) + '02'\n",
    "            for k in (1, 29):\n",
    "\n",
    "\n",
    "def crawl()\n",
    "url = f\"http://www.twse.com.tw/fund/BFI82U?response=html&dayDate={date}\"\n",
    "resp = requests.get(url)\n",
    "resp.encoding = 'UTF-8'\n",
    "\n",
    "html_soup = BeautifulSoup(resp.text, 'lxml')\n",
    "table = html_soup.find('table').find('tbody')\n",
    "data = []\n",
    "table = table.find('tr')\n",
    "\n",
    "while table:\n",
    "    inner_table = table.select('td')\n",
    "    tmp = []\n",
    "    for i in inner_table:\n",
    "        content = str(i)[4: -5: 1].replace(',', '')\n",
    "        tmp.append(content)\n",
    "    data.append(tmp)\n",
    "    table = table.find_next('tr')\n",
    "columns = ['單位名稱', '買進金額', '賣出金額', '買賣差額']\n"
   ]
  },
  {
   "cell_type": "code",
   "execution_count": 58,
   "metadata": {},
   "outputs": [
    {
     "data": {
      "text/html": [
       "<div>\n",
       "<style scoped>\n",
       "    .dataframe tbody tr th:only-of-type {\n",
       "        vertical-align: middle;\n",
       "    }\n",
       "\n",
       "    .dataframe tbody tr th {\n",
       "        vertical-align: top;\n",
       "    }\n",
       "\n",
       "    .dataframe thead th {\n",
       "        text-align: right;\n",
       "    }\n",
       "</style>\n",
       "<table border=\"1\" class=\"dataframe\">\n",
       "  <thead>\n",
       "    <tr style=\"text-align: right;\">\n",
       "      <th></th>\n",
       "      <th>單位名稱</th>\n",
       "      <th>買進金額</th>\n",
       "      <th>賣出金額</th>\n",
       "      <th>買賣差額</th>\n",
       "    </tr>\n",
       "  </thead>\n",
       "  <tbody>\n",
       "    <tr>\n",
       "      <th>0</th>\n",
       "      <td>自營商(自行買賣)</td>\n",
       "      <td>2201131650</td>\n",
       "      <td>2222184686</td>\n",
       "      <td>-21053036</td>\n",
       "    </tr>\n",
       "    <tr>\n",
       "      <th>1</th>\n",
       "      <td>自營商(避險)</td>\n",
       "      <td>4972675380</td>\n",
       "      <td>4854167339</td>\n",
       "      <td>118508041</td>\n",
       "    </tr>\n",
       "    <tr>\n",
       "      <th>2</th>\n",
       "      <td>投信</td>\n",
       "      <td>4823925230</td>\n",
       "      <td>5285162272</td>\n",
       "      <td>-461237042</td>\n",
       "    </tr>\n",
       "    <tr>\n",
       "      <th>3</th>\n",
       "      <td>外資及陸資</td>\n",
       "      <td>56214982735</td>\n",
       "      <td>46881697465</td>\n",
       "      <td>9333285270</td>\n",
       "    </tr>\n",
       "    <tr>\n",
       "      <th>4</th>\n",
       "      <td>合計</td>\n",
       "      <td>68212714995</td>\n",
       "      <td>59243211762</td>\n",
       "      <td>8969503233</td>\n",
       "    </tr>\n",
       "  </tbody>\n",
       "</table>\n",
       "</div>"
      ],
      "text/plain": [
       "        單位名稱         買進金額         賣出金額        買賣差額\n",
       "0  自營商(自行買賣)   2201131650   2222184686   -21053036\n",
       "1    自營商(避險)   4972675380   4854167339   118508041\n",
       "2         投信   4823925230   5285162272  -461237042\n",
       "3      外資及陸資  56214982735  46881697465  9333285270\n",
       "4         合計  68212714995  59243211762  8969503233"
      ]
     },
     "execution_count": 58,
     "metadata": {},
     "output_type": "execute_result"
    }
   ],
   "source": [
    "columns = ['單位名稱', '買進金額', '賣出金額', '買賣差額']\n",
    "data = pd.DataFrame(data, columns = columns)"
   ]
  },
  {
   "cell_type": "code",
   "execution_count": 7,
   "metadata": {},
   "outputs": [],
   "source": [
    "date = \"20220624\"\n",
    "url = f\"http://www.twse.com.tw/fund/BFI82U?response=html&dayDate={date}\"\n",
    "resp = requests.get(url)\n",
    "resp.encoding = 'UTF-8'\n",
    "\n",
    "html_soup = BeautifulSoup(resp.text, 'lxml')"
   ]
  },
  {
   "cell_type": "code",
   "execution_count": 8,
   "metadata": {},
   "outputs": [
    {
     "data": {
      "text/plain": [
       "<!DOCTYPE html>\n",
       "<html lang=\"zh\">\n",
       "<head>\n",
       "<meta content=\"text/html; charset=utf-8\" http-equiv=\"Content-Type\"/>\n",
       "<meta content=\"IE=edge\" http-equiv=\"X-UA-Compatible\"/>\n",
       "<title>TWSE 臺灣證券交易所 - 報表</title>\n",
       "<style>\n",
       "    table { border-collapse: collapse; margin: 1em 0; }\n",
       "    table, th, td { border: 1px solid lightgray; }\n",
       "    table thead th, table thead td { text-align: center; background-color: #eee; }\n",
       "    table thead div { font-size: 1.5em; padding: 10px; }\n",
       "    table tbody tr:nth-child(even){ background-color:#f8f8f8; }\n",
       "    td { padding: 4px; }\n",
       "    td>p { margin: 0; text-align: center; }\n",
       "    div.notes { margin: 2em 0 4em 0; line-height: 1.5em; }\n",
       "    table tbody td { text-align: right; }\n",
       "    table tbody td:first-child { text-align: center; }\n",
       "    table tbody td:first-child + td { text-align: left; }\n",
       "  </style>\n",
       "</head>\n",
       "<body>\n",
       "<div>\n",
       "<table>\n",
       "<thead>\n",
       "<tr>\n",
       "<th colspan=\"4\" scope=\"col\">\n",
       "<div>111年06月24日 三大法人買賣金額統計表</div>\n",
       "</th>\n",
       "</tr>\n",
       "<tr>\n",
       "<td>單位名稱</td>\n",
       "<td>買進金額</td>\n",
       "<td>賣出金額</td>\n",
       "<td>買賣差額</td>\n",
       "</tr>\n",
       "</thead>\n",
       "<tbody>\n",
       "<tr>\n",
       "<td>自營商(自行買賣)</td>\n",
       "<td>14,079,176,422</td>\n",
       "<td>2,718,792,875</td>\n",
       "<td>11,360,383,547</td>\n",
       "</tr>\n",
       "<tr>\n",
       "<td>自營商(避險)</td>\n",
       "<td>10,012,395,880</td>\n",
       "<td>5,950,144,113</td>\n",
       "<td>4,062,251,767</td>\n",
       "</tr>\n",
       "<tr>\n",
       "<td>投信</td>\n",
       "<td>4,626,615,497</td>\n",
       "<td>2,488,347,841</td>\n",
       "<td>2,138,267,656</td>\n",
       "</tr>\n",
       "<tr>\n",
       "<td>外資及陸資</td>\n",
       "<td>69,241,384,387</td>\n",
       "<td>72,081,320,594</td>\n",
       "<td>-2,839,936,207</td>\n",
       "</tr>\n",
       "<tr>\n",
       "<td>合計</td>\n",
       "<td>97,959,572,186</td>\n",
       "<td>83,238,605,423</td>\n",
       "<td>14,720,966,763</td>\n",
       "</tr>\n",
       "</tbody>\n",
       "</table>\n",
       "<div class=\"notes\">\n",
       "<b>說明：</b>\n",
       "<ol>\n",
       "<li>自營商表示證券自營商專戶。</li>\n",
       "<li>投信表示本國投資信託基金。</li>\n",
       "<li>外資及陸資表示依「華僑及外國人投資證券管理辦法」及「大陸地區投資人來臺從事證券投資及期貨交易管理辦法」辦理登記等投資人。</li>\n",
       "<li>本統計資訊含一般、零股、盤後定價、鉅額，不含拍賣、標購。</li>\n",
       "<li>本資訊以當日原始成交情形統計，不以證券商申報錯帳、更正帳號等調整後資料統計。</li>\n",
       "</ol>\n",
       "</div>\n",
       "</div>\n",
       "</body>\n",
       "</html>"
      ]
     },
     "execution_count": 8,
     "metadata": {},
     "output_type": "execute_result"
    }
   ],
   "source": [
    "html_soup"
   ]
  },
  {
   "cell_type": "code",
   "execution_count": 10,
   "metadata": {},
   "outputs": [
    {
     "data": {
      "text/plain": [
       "<tbody>\n",
       "<tr>\n",
       "<td>自營商(自行買賣)</td>\n",
       "<td>14,079,176,422</td>\n",
       "<td>2,718,792,875</td>\n",
       "<td>11,360,383,547</td>\n",
       "</tr>\n",
       "<tr>\n",
       "<td>自營商(避險)</td>\n",
       "<td>10,012,395,880</td>\n",
       "<td>5,950,144,113</td>\n",
       "<td>4,062,251,767</td>\n",
       "</tr>\n",
       "<tr>\n",
       "<td>投信</td>\n",
       "<td>4,626,615,497</td>\n",
       "<td>2,488,347,841</td>\n",
       "<td>2,138,267,656</td>\n",
       "</tr>\n",
       "<tr>\n",
       "<td>外資及陸資</td>\n",
       "<td>69,241,384,387</td>\n",
       "<td>72,081,320,594</td>\n",
       "<td>-2,839,936,207</td>\n",
       "</tr>\n",
       "<tr>\n",
       "<td>合計</td>\n",
       "<td>97,959,572,186</td>\n",
       "<td>83,238,605,423</td>\n",
       "<td>14,720,966,763</td>\n",
       "</tr>\n",
       "</tbody>"
      ]
     },
     "execution_count": 10,
     "metadata": {},
     "output_type": "execute_result"
    }
   ],
   "source": [
    "rsq_table = html_soup.find('table').find('tbody')\n",
    "rsq_table"
   ]
  },
  {
   "cell_type": "code",
   "execution_count": 48,
   "metadata": {},
   "outputs": [
    {
     "name": "stdout",
     "output_type": "stream",
     "text": [
      "1\n",
      "1\n",
      "1\n",
      "1\n"
     ]
    }
   ],
   "source": [
    "table_info = rsq_table.find('tr')\n",
    "table_info.select('td')\n",
    "for i in table_info.select('td'):\n",
    "    print(\"1\")"
   ]
  },
  {
   "cell_type": "code",
   "execution_count": 30,
   "metadata": {},
   "outputs": [
    {
     "data": {
      "text/plain": [
       "'14079176422'"
      ]
     },
     "execution_count": 30,
     "metadata": {},
     "output_type": "execute_result"
    }
   ],
   "source": [
    "tmp = table_info.select('td')[1]\n",
    "str(tmp)[4:-5:1].replace(',', '')"
   ]
  },
  {
   "cell_type": "code",
   "execution_count": 37,
   "metadata": {},
   "outputs": [],
   "source": [
    "a = a.find_next('tr')\n",
    "a"
   ]
  },
  {
   "cell_type": "code",
   "execution_count": 39,
   "metadata": {},
   "outputs": [],
   "source": [
    "if a :\n",
    "    print('True')"
   ]
  }
 ],
 "metadata": {
  "kernelspec": {
   "display_name": "Python 3.9.5 64-bit",
   "language": "python",
   "name": "python3"
  },
  "language_info": {
   "codemirror_mode": {
    "name": "ipython",
    "version": 3
   },
   "file_extension": ".py",
   "mimetype": "text/x-python",
   "name": "python",
   "nbconvert_exporter": "python",
   "pygments_lexer": "ipython3",
   "version": "3.9.5"
  },
  "orig_nbformat": 4,
  "vscode": {
   "interpreter": {
    "hash": "52634da84371cba311ea128a5ea7cdc41ff074b781779e754b270ff9f8153cee"
   }
  }
 },
 "nbformat": 4,
 "nbformat_minor": 2
}
